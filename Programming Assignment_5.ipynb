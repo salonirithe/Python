{
 "cells": [
  {
   "cell_type": "markdown",
   "id": "4ac9602a",
   "metadata": {},
   "source": [
    "## Python Basic Programming Assignment - 5\n",
    "--------------\n"
   ]
  },
  {
   "cell_type": "markdown",
   "id": "fdaeee06",
   "metadata": {},
   "source": [
    "### 1. Write a Python Program to Find LCM?"
   ]
  },
  {
   "cell_type": "code",
   "execution_count": 2,
   "id": "691d9add",
   "metadata": {},
   "outputs": [
    {
     "name": "stdout",
     "output_type": "stream",
     "text": [
      "Enter the first number: 24\n",
      "Enter the second number: 36\n",
      "The LCM of 24 and 36 is 72\n"
     ]
    }
   ],
   "source": [
    "n1=int(input(\"Enter the first number: \"))\n",
    "n2=int(input(\"Enter the second number: \"))\n",
    "\n",
    "def compute_lcm(n1,n2):\n",
    "    if n1>n2:\n",
    "        higher=n1\n",
    "    else:\n",
    "        higher=n2\n",
    "    value=higher\n",
    "    while True:\n",
    "        if higher%n1==0 and higher%n2==0:\n",
    "            print(\"The LCM of\",n1,\"and\",n2,\"is\",higher)\n",
    "            break\n",
    "        else:\n",
    "            higher=higher+value\n",
    "            \n",
    "compute_lcm(n1,n2)            \n",
    "            "
   ]
  },
  {
   "cell_type": "markdown",
   "id": "2f459cdf",
   "metadata": {},
   "source": [
    "### 2. Write a Python Program to Find HCF?"
   ]
  },
  {
   "cell_type": "code",
   "execution_count": 1,
   "id": "ab3c4cda",
   "metadata": {},
   "outputs": [
    {
     "name": "stdout",
     "output_type": "stream",
     "text": [
      "The HCF pf given two numbers is:  6\n"
     ]
    }
   ],
   "source": [
    "def HCF(x,y):\n",
    "    if x>y:\n",
    "        smaller=y\n",
    "    else:\n",
    "        smaller=x\n",
    "    for i in range(1,smaller+1):\n",
    "        if (x%i==0) and (y%i==0):\n",
    "            hcf=i\n",
    "    return hcf\n",
    "print(\"The HCF pf given two numbers is: \",HCF(12,30))"
   ]
  },
  {
   "cell_type": "markdown",
   "id": "d2c29370",
   "metadata": {},
   "source": [
    "### 3. Write a Python Program to Convert Decimal to Binary, Octal and Hexadecimal?"
   ]
  },
  {
   "cell_type": "code",
   "execution_count": 3,
   "id": "c710f2ec",
   "metadata": {},
   "outputs": [
    {
     "name": "stdout",
     "output_type": "stream",
     "text": [
      "Enter the value: 16\n",
      "The conversion of decimal number 16 is:\n",
      "0b10000 is binary\n",
      "0o20 is octal\n",
      "0x10 is hexadecimal\n"
     ]
    }
   ],
   "source": [
    "decimal=int(input(\"Enter the value: \"))\n",
    "\n",
    "print(\"The conversion of decimal number\",decimal,\"is:\")\n",
    "\n",
    "print(bin(decimal),\"is binary\")\n",
    "print(oct(decimal),\"is octal\")\n",
    "print(hex(decimal),\"is hexadecimal\")"
   ]
  },
  {
   "cell_type": "markdown",
   "id": "2a16c5fd",
   "metadata": {},
   "source": [
    "### 4. Write a Python Program To Find ASCII value of a character?"
   ]
  },
  {
   "cell_type": "code",
   "execution_count": 5,
   "id": "2942244d",
   "metadata": {},
   "outputs": [
    {
     "name": "stdout",
     "output_type": "stream",
     "text": [
      "The ASCII value of A is 65\n"
     ]
    }
   ],
   "source": [
    "char=\"A\"\n",
    "print(\"The ASCII value of\",char,\"is\",ord(char))"
   ]
  },
  {
   "cell_type": "markdown",
   "id": "226778a0",
   "metadata": {},
   "source": [
    "### 5. Write a Python Program to Make a Simple Calculator with 4 basic mathematical operations?"
   ]
  },
  {
   "cell_type": "code",
   "execution_count": 1,
   "id": "dec39f23",
   "metadata": {},
   "outputs": [
    {
     "name": "stdout",
     "output_type": "stream",
     "text": [
      "````MINI CALCULATOR````\n",
      "Enter the first number: 12\n",
      "Enter the second number: 4\n",
      "Press 1 for Addition \n",
      "Press 2 for Substraction \n",
      "Press 3 for Multiplication \n",
      " Press 4 for Division \n",
      "Enter your choice from 1 to 4: 1\n",
      "16.0\n"
     ]
    }
   ],
   "source": [
    "print(\"````MINI CALCULATOR````\")\n",
    "num1=float(input(\"Enter the first number: \"))\n",
    "num2=float(input(\"Enter the second number: \"))\n",
    "\n",
    "print(\"Press 1 for Addition \\nPress 2 for Substraction \\nPress 3 for Multiplication \\n Press 4 for Division \")\n",
    "\n",
    "choice=int(input(\"Enter your choice from 1 to 4: \"))\n",
    "if choice==1:\n",
    "    print(num1+num2)\n",
    "elif choice==2:\n",
    "    print(num1-num2)\n",
    "elif choice==3:\n",
    "    print(num1*num2)\n",
    "elif choice==4:\n",
    "    print(num1/num2)\n",
    "else:\n",
    "    print(\"Invalid input\")\n",
    "    "
   ]
  }
 ],
 "metadata": {
  "kernelspec": {
   "display_name": "Python 3 (ipykernel)",
   "language": "python",
   "name": "python3"
  },
  "language_info": {
   "codemirror_mode": {
    "name": "ipython",
    "version": 3
   },
   "file_extension": ".py",
   "mimetype": "text/x-python",
   "name": "python",
   "nbconvert_exporter": "python",
   "pygments_lexer": "ipython3",
   "version": "3.9.12"
  }
 },
 "nbformat": 4,
 "nbformat_minor": 5
}
