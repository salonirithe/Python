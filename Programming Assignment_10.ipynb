{
 "cells": [
  {
   "cell_type": "markdown",
   "id": "3dcb940f",
   "metadata": {},
   "source": [
    "## Python Basic Programming Assignment 10"
   ]
  },
  {
   "cell_type": "markdown",
   "id": "6720790a",
   "metadata": {},
   "source": [
    "### 1. Write a Python program to find sum of elements in list?"
   ]
  },
  {
   "cell_type": "code",
   "execution_count": 65,
   "id": "08ad8c36",
   "metadata": {},
   "outputs": [
    {
     "name": "stdout",
     "output_type": "stream",
     "text": [
      "Sum of elements:  55\n"
     ]
    }
   ],
   "source": [
    "list=[1,2,3,4,5,6,7,8,9,10]\n",
    "sum=0\n",
    "for i in list:\n",
    "    sum=sum+i\n",
    "print(\"Sum of elements: \",sum)    "
   ]
  },
  {
   "cell_type": "markdown",
   "id": "fe1137c3",
   "metadata": {},
   "source": [
    "### 2. Write a Python program to  Multiply all numbers in the list?"
   ]
  },
  {
   "cell_type": "code",
   "execution_count": 66,
   "id": "272034e6",
   "metadata": {},
   "outputs": [
    {
     "name": "stdout",
     "output_type": "stream",
     "text": [
      "Multiplication:  15000\n"
     ]
    }
   ],
   "source": [
    "list=[5,10,15,20]\n",
    "mul=1\n",
    "for i in list:\n",
    "    mul=mul*i\n",
    "print(\"Multiplication: \",mul)    "
   ]
  },
  {
   "cell_type": "markdown",
   "id": "078681db",
   "metadata": {},
   "source": [
    "### 3. Write a Python program to find smallest number in a list?"
   ]
  },
  {
   "cell_type": "code",
   "execution_count": 67,
   "id": "6b2f0d04",
   "metadata": {},
   "outputs": [
    {
     "name": "stdout",
     "output_type": "stream",
     "text": [
      "Smallest number is:  15\n"
     ]
    }
   ],
   "source": [
    "list=[35,25,55,85,95,75,15,45,65]\n",
    "list.sort()\n",
    "print(\"Smallest number is: \",list[0])"
   ]
  },
  {
   "cell_type": "markdown",
   "id": "12b04397",
   "metadata": {},
   "source": [
    "### 4. Write a Python program to find largest number in a list?"
   ]
  },
  {
   "cell_type": "code",
   "execution_count": 68,
   "id": "6096f132",
   "metadata": {},
   "outputs": [
    {
     "name": "stdout",
     "output_type": "stream",
     "text": [
      "Largest number is:  95\n"
     ]
    }
   ],
   "source": [
    "list=[35,25,55,85,95,75,15,45,65]\n",
    "list.sort()\n",
    "print(\"Largest number is: \",list[-1])"
   ]
  },
  {
   "cell_type": "markdown",
   "id": "86442b51",
   "metadata": {},
   "source": [
    "### 5. Write a Python program to find second largest number in a list?"
   ]
  },
  {
   "cell_type": "code",
   "execution_count": 69,
   "id": "d6723721",
   "metadata": {},
   "outputs": [
    {
     "name": "stdout",
     "output_type": "stream",
     "text": [
      "Smallest number is:  85\n"
     ]
    }
   ],
   "source": [
    "list=[35,25,55,85,95,75,15,45,65]\n",
    "list.sort()\n",
    "print(\"Smallest number is: \",list[-2])"
   ]
  },
  {
   "cell_type": "markdown",
   "id": "10964d7d",
   "metadata": {},
   "source": [
    "### 6. Write a Python program to find N largest elements from a list?"
   ]
  },
  {
   "cell_type": "code",
   "execution_count": 70,
   "id": "f45d4724",
   "metadata": {},
   "outputs": [
    {
     "name": "stdout",
     "output_type": "stream",
     "text": [
      "Largest numbers:  [66, 77, 88, 99]\n"
     ]
    }
   ],
   "source": [
    "list=[77,44,88,33,99,55,11,66,22]\n",
    "n=4\n",
    "list.sort()\n",
    "print(\"Largest numbers: \",list[-n:])"
   ]
  },
  {
   "cell_type": "markdown",
   "id": "2f1a1e98",
   "metadata": {},
   "source": [
    "### 7. Write a Python program to print even numbers in a list?"
   ]
  },
  {
   "cell_type": "code",
   "execution_count": 71,
   "id": "614f1cec",
   "metadata": {},
   "outputs": [
    {
     "name": "stdout",
     "output_type": "stream",
     "text": [
      "Even numbers:  [12, 14, 16, 18, 20]\n"
     ]
    }
   ],
   "source": [
    "list=[11,12,13,14,15,16,17,18,19,20]\n",
    "a=[]\n",
    "for i in list:\n",
    "    if i%2==0:\n",
    "        a.append(i)\n",
    "print(\"Even numbers: \",a)    "
   ]
  },
  {
   "cell_type": "markdown",
   "id": "989bb324",
   "metadata": {},
   "source": [
    "### 8. Write a Python program to print odd numbers in a List?"
   ]
  },
  {
   "cell_type": "code",
   "execution_count": 72,
   "id": "878057f3",
   "metadata": {},
   "outputs": [
    {
     "name": "stdout",
     "output_type": "stream",
     "text": [
      "Odd numbers:  [11, 13, 15, 17, 19]\n"
     ]
    }
   ],
   "source": [
    "list=[11,12,13,14,15,16,17,18,19,20]\n",
    "b=[]\n",
    "for i in list:\n",
    "    if i%2==1:\n",
    "        b.append(i)\n",
    "print(\"Odd numbers: \",b) "
   ]
  },
  {
   "cell_type": "markdown",
   "id": "185b7b13",
   "metadata": {},
   "source": [
    "### 9. Write a Python program to Remove empty List from List?"
   ]
  },
  {
   "cell_type": "code",
   "execution_count": 73,
   "id": "5a5bde81",
   "metadata": {},
   "outputs": [
    {
     "name": "stdout",
     "output_type": "stream",
     "text": [
      "[[1, 2], [1, 2, 3], [1, 2, 3, 4]]\n"
     ]
    }
   ],
   "source": [
    "list=[[],[1,2],[1,2,3],[],[],[1,2,3,4],[]]\n",
    "print([x for x in list if x!=[]])"
   ]
  },
  {
   "cell_type": "markdown",
   "id": "278cfacc",
   "metadata": {},
   "source": [
    "### 10. Write a Python program to Cloning or Copying a list?"
   ]
  },
  {
   "cell_type": "code",
   "execution_count": 74,
   "id": "2f47c61c",
   "metadata": {},
   "outputs": [
    {
     "name": "stdout",
     "output_type": "stream",
     "text": [
      "Original list:  [1, 2, 3, 4, 5]\n",
      "New list:  [1, 2, 3, 4, 5]\n"
     ]
    }
   ],
   "source": [
    "Original_list=[1,2,3,4,5]\n",
    "print(\"Original list: \",Original_list)\n",
    "new_list=Original_list\n",
    "print(\"New list: \",new_list)"
   ]
  },
  {
   "cell_type": "markdown",
   "id": "b359bedf",
   "metadata": {},
   "source": [
    "### 11. Write a Python program to Count occurrences of an element in a list?"
   ]
  },
  {
   "cell_type": "code",
   "execution_count": 75,
   "id": "54421023",
   "metadata": {},
   "outputs": [
    {
     "name": "stdout",
     "output_type": "stream",
     "text": [
      "Enter the value: 10\n",
      "10 has occurued 3 times\n"
     ]
    }
   ],
   "source": [
    "list=[10,20,15,25,10,30,45,10,50,40]\n",
    "x=int(input(\"Enter the value: \"))\n",
    "count=0\n",
    "for i in list:\n",
    "    if (x==i):\n",
    "        count=count+1\n",
    "print(\"{} has occurued {} times\".format(x,count))        "
   ]
  }
 ],
 "metadata": {
  "kernelspec": {
   "display_name": "Python 3 (ipykernel)",
   "language": "python",
   "name": "python3"
  },
  "language_info": {
   "codemirror_mode": {
    "name": "ipython",
    "version": 3
   },
   "file_extension": ".py",
   "mimetype": "text/x-python",
   "name": "python",
   "nbconvert_exporter": "python",
   "pygments_lexer": "ipython3",
   "version": "3.9.12"
  }
 },
 "nbformat": 4,
 "nbformat_minor": 5
}
